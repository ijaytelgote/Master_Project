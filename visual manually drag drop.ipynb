{
 "cells": [
  {
   "cell_type": "code",
   "execution_count": 1,
   "id": "801a9043",
   "metadata": {},
   "outputs": [],
   "source": [
    "import pivottablejs"
   ]
  },
  {
   "cell_type": "code",
   "execution_count": 1,
   "id": "d8e0a3a2",
   "metadata": {},
   "outputs": [],
   "source": [
    "import pandas as pd"
   ]
  },
  {
   "cell_type": "code",
   "execution_count": 2,
   "id": "a2bee5ea",
   "metadata": {},
   "outputs": [
    {
     "data": {
      "text/html": [
       "<div>\n",
       "<style scoped>\n",
       "    .dataframe tbody tr th:only-of-type {\n",
       "        vertical-align: middle;\n",
       "    }\n",
       "\n",
       "    .dataframe tbody tr th {\n",
       "        vertical-align: top;\n",
       "    }\n",
       "\n",
       "    .dataframe thead th {\n",
       "        text-align: right;\n",
       "    }\n",
       "</style>\n",
       "<table border=\"1\" class=\"dataframe\">\n",
       "  <thead>\n",
       "    <tr style=\"text-align: right;\">\n",
       "      <th></th>\n",
       "      <th>Unnamed: 0</th>\n",
       "      <th>User</th>\n",
       "      <th>Profile Picture</th>\n",
       "      <th>Email Address</th>\n",
       "      <th>Phone Number</th>\n",
       "      <th>Communication History</th>\n",
       "      <th>Company Name</th>\n",
       "      <th>Industry</th>\n",
       "      <th>Deal Stage</th>\n",
       "      <th>Deal Value</th>\n",
       "      <th>Win/Loss Status</th>\n",
       "      <th>Upcoming Tasks</th>\n",
       "      <th>Activity Status</th>\n",
       "      <th>Lead Source</th>\n",
       "      <th>Location</th>\n",
       "      <th>Custom Visuals</th>\n",
       "      <th>Creation Date</th>\n",
       "      <th>Last Updated</th>\n",
       "      <th>User Activity</th>\n",
       "    </tr>\n",
       "  </thead>\n",
       "  <tbody>\n",
       "    <tr>\n",
       "      <th>0</th>\n",
       "      <td>0</td>\n",
       "      <td>Savannah Cortez</td>\n",
       "      <td>https://dummyimage.com/646x621</td>\n",
       "      <td>jennifer06@example.net</td>\n",
       "      <td>(958)861-5017</td>\n",
       "      <td>As order general party. Past close against top...</td>\n",
       "      <td>Turner PLC</td>\n",
       "      <td>Healthcare</td>\n",
       "      <td>Opportunity</td>\n",
       "      <td>50107</td>\n",
       "      <td>Lost</td>\n",
       "      <td>12/30/2023</td>\n",
       "      <td>Ongoing</td>\n",
       "      <td>Yahoo</td>\n",
       "      <td>Spain</td>\n",
       "      <td>6</td>\n",
       "      <td>2/15/2021</td>\n",
       "      <td>12/19/2023</td>\n",
       "      <td>24.0</td>\n",
       "    </tr>\n",
       "    <tr>\n",
       "      <th>1</th>\n",
       "      <td>1</td>\n",
       "      <td>John Anderson MD</td>\n",
       "      <td>https://dummyimage.com/22x532</td>\n",
       "      <td>alexthomas@example.org</td>\n",
       "      <td>(981)737-7214</td>\n",
       "      <td>Human must trial family. Break return bill line.</td>\n",
       "      <td>Anthony, Chen and Harrington</td>\n",
       "      <td>Retail</td>\n",
       "      <td>Opportunity</td>\n",
       "      <td>76552</td>\n",
       "      <td>Lost</td>\n",
       "      <td>1/23/2024</td>\n",
       "      <td>Completed</td>\n",
       "      <td>Other</td>\n",
       "      <td>Jordan</td>\n",
       "      <td>3</td>\n",
       "      <td>8/26/2021</td>\n",
       "      <td>12/20/2023</td>\n",
       "      <td>41.0</td>\n",
       "    </tr>\n",
       "    <tr>\n",
       "      <th>2</th>\n",
       "      <td>2</td>\n",
       "      <td>Amy Williams</td>\n",
       "      <td>https://dummyimage.com/619x819</td>\n",
       "      <td>carlabrooks@example.org</td>\n",
       "      <td>976.520.3848</td>\n",
       "      <td>Seek such agreement head whatever effort hear....</td>\n",
       "      <td>Matthews, Barajas and Harrell</td>\n",
       "      <td>Retail</td>\n",
       "      <td>Opportunity</td>\n",
       "      <td>90696</td>\n",
       "      <td>Lost</td>\n",
       "      <td>1/18/2024</td>\n",
       "      <td>o</td>\n",
       "      <td>X</td>\n",
       "      <td>Tokelau</td>\n",
       "      <td>9</td>\n",
       "      <td>7/15/2022</td>\n",
       "      <td>12/2/2023</td>\n",
       "      <td>88.0</td>\n",
       "    </tr>\n",
       "  </tbody>\n",
       "</table>\n",
       "</div>"
      ],
      "text/plain": [
       "   Unnamed: 0              User                 Profile Picture  \\\n",
       "0           0   Savannah Cortez  https://dummyimage.com/646x621   \n",
       "1           1  John Anderson MD   https://dummyimage.com/22x532   \n",
       "2           2      Amy Williams  https://dummyimage.com/619x819   \n",
       "\n",
       "             Email Address   Phone Number  \\\n",
       "0   jennifer06@example.net  (958)861-5017   \n",
       "1   alexthomas@example.org  (981)737-7214   \n",
       "2  carlabrooks@example.org   976.520.3848   \n",
       "\n",
       "                               Communication History  \\\n",
       "0  As order general party. Past close against top...   \n",
       "1   Human must trial family. Break return bill line.   \n",
       "2  Seek such agreement head whatever effort hear....   \n",
       "\n",
       "                    Company Name    Industry   Deal Stage  Deal Value  \\\n",
       "0                     Turner PLC  Healthcare  Opportunity       50107   \n",
       "1   Anthony, Chen and Harrington      Retail  Opportunity       76552   \n",
       "2  Matthews, Barajas and Harrell      Retail  Opportunity       90696   \n",
       "\n",
       "  Win/Loss Status Upcoming Tasks Activity Status Lead Source Location  \\\n",
       "0            Lost     12/30/2023         Ongoing       Yahoo    Spain   \n",
       "1            Lost      1/23/2024       Completed       Other   Jordan   \n",
       "2            Lost      1/18/2024              o            X  Tokelau   \n",
       "\n",
       "   Custom Visuals Creation Date Last Updated  User Activity  \n",
       "0               6     2/15/2021   12/19/2023           24.0  \n",
       "1               3     8/26/2021   12/20/2023           41.0  \n",
       "2               9     7/15/2022    12/2/2023           88.0  "
      ]
     },
     "execution_count": 2,
     "metadata": {},
     "output_type": "execute_result"
    }
   ],
   "source": [
    "df=pd.read_csv(r\"C:\\Users\\jayma\\Documents\\Sound Recordings\\Real_CRM_Data.csv\")\n",
    "df.head(3)"
   ]
  },
  {
   "cell_type": "code",
   "execution_count": 3,
   "id": "059f752d",
   "metadata": {},
   "outputs": [],
   "source": [
    "from pivottablejs import pivot_ui"
   ]
  },
  {
   "cell_type": "code",
   "execution_count": 4,
   "id": "ba2f209e",
   "metadata": {},
   "outputs": [
    {
     "data": {
      "text/html": [
       "\n",
       "        <iframe\n",
       "            width=\"100%\"\n",
       "            height=\"500\"\n",
       "            src=\"pivottablejs.html\"\n",
       "            frameborder=\"0\"\n",
       "            allowfullscreen\n",
       "            \n",
       "        ></iframe>\n",
       "        "
      ],
      "text/plain": [
       "<IPython.lib.display.IFrame at 0x24f159fd7c0>"
      ]
     },
     "execution_count": 4,
     "metadata": {},
     "output_type": "execute_result"
    }
   ],
   "source": [
    "pivot_ui(df)"
   ]
  },
  {
   "cell_type": "code",
   "execution_count": null,
   "id": "29a04bcf",
   "metadata": {},
   "outputs": [],
   "source": []
  }
 ],
 "metadata": {
  "kernelspec": {
   "display_name": "Python 3 (ipykernel)",
   "language": "python",
   "name": "python3"
  },
  "language_info": {
   "codemirror_mode": {
    "name": "ipython",
    "version": 3
   },
   "file_extension": ".py",
   "mimetype": "text/x-python",
   "name": "python",
   "nbconvert_exporter": "python",
   "pygments_lexer": "ipython3",
   "version": "3.9.12"
  }
 },
 "nbformat": 4,
 "nbformat_minor": 5
}
