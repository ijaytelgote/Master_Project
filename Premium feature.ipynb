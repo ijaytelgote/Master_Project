{
 "cells": [
  {
   "cell_type": "code",
   "execution_count": 1,
   "id": "53057cc8",
   "metadata": {},
   "outputs": [],
   "source": [
    "import pandas as pd"
   ]
  },
  {
   "cell_type": "code",
   "execution_count": 2,
   "id": "4e6a54b8",
   "metadata": {},
   "outputs": [],
   "source": [
    "df=pd.read_csv(r\"C:\\Users\\jayma\\Documents\\Sound Recordings\\Real_CRM_Data.csv\")"
   ]
  },
  {
   "cell_type": "code",
   "execution_count": 3,
   "id": "4447d1fe",
   "metadata": {},
   "outputs": [
    {
     "data": {
      "text/html": [
       "<div>\n",
       "<style scoped>\n",
       "    .dataframe tbody tr th:only-of-type {\n",
       "        vertical-align: middle;\n",
       "    }\n",
       "\n",
       "    .dataframe tbody tr th {\n",
       "        vertical-align: top;\n",
       "    }\n",
       "\n",
       "    .dataframe thead th {\n",
       "        text-align: right;\n",
       "    }\n",
       "</style>\n",
       "<table border=\"1\" class=\"dataframe\">\n",
       "  <thead>\n",
       "    <tr style=\"text-align: right;\">\n",
       "      <th></th>\n",
       "      <th>Unnamed: 0</th>\n",
       "      <th>User</th>\n",
       "      <th>Profile Picture</th>\n",
       "      <th>Email Address</th>\n",
       "      <th>Phone Number</th>\n",
       "      <th>Communication History</th>\n",
       "      <th>Company Name</th>\n",
       "      <th>Industry</th>\n",
       "      <th>Deal Stage</th>\n",
       "      <th>Deal Value</th>\n",
       "      <th>Win/Loss Status</th>\n",
       "      <th>Upcoming Tasks</th>\n",
       "      <th>Activity Status</th>\n",
       "      <th>Lead Source</th>\n",
       "      <th>Location</th>\n",
       "      <th>Custom Visuals</th>\n",
       "      <th>Creation Date</th>\n",
       "      <th>Last Updated</th>\n",
       "      <th>User Activity</th>\n",
       "    </tr>\n",
       "  </thead>\n",
       "  <tbody>\n",
       "    <tr>\n",
       "      <th>0</th>\n",
       "      <td>0</td>\n",
       "      <td>Savannah Cortez</td>\n",
       "      <td>https://dummyimage.com/646x621</td>\n",
       "      <td>jennifer06@example.net</td>\n",
       "      <td>(958)861-5017</td>\n",
       "      <td>As order general party. Past close against top...</td>\n",
       "      <td>Turner PLC</td>\n",
       "      <td>Healthcare</td>\n",
       "      <td>Opportunity</td>\n",
       "      <td>50107</td>\n",
       "      <td>Lost</td>\n",
       "      <td>12/30/2023</td>\n",
       "      <td>Ongoing</td>\n",
       "      <td>Yahoo</td>\n",
       "      <td>Spain</td>\n",
       "      <td>6</td>\n",
       "      <td>2/15/2021</td>\n",
       "      <td>12/19/2023</td>\n",
       "      <td>24.0</td>\n",
       "    </tr>\n",
       "    <tr>\n",
       "      <th>1</th>\n",
       "      <td>1</td>\n",
       "      <td>John Anderson MD</td>\n",
       "      <td>https://dummyimage.com/22x532</td>\n",
       "      <td>alexthomas@example.org</td>\n",
       "      <td>(981)737-7214</td>\n",
       "      <td>Human must trial family. Break return bill line.</td>\n",
       "      <td>Anthony, Chen and Harrington</td>\n",
       "      <td>Retail</td>\n",
       "      <td>Opportunity</td>\n",
       "      <td>76552</td>\n",
       "      <td>Lost</td>\n",
       "      <td>1/23/2024</td>\n",
       "      <td>Completed</td>\n",
       "      <td>Other</td>\n",
       "      <td>Jordan</td>\n",
       "      <td>3</td>\n",
       "      <td>8/26/2021</td>\n",
       "      <td>12/20/2023</td>\n",
       "      <td>41.0</td>\n",
       "    </tr>\n",
       "    <tr>\n",
       "      <th>2</th>\n",
       "      <td>2</td>\n",
       "      <td>Amy Williams</td>\n",
       "      <td>https://dummyimage.com/619x819</td>\n",
       "      <td>carlabrooks@example.org</td>\n",
       "      <td>976.520.3848</td>\n",
       "      <td>Seek such agreement head whatever effort hear....</td>\n",
       "      <td>Matthews, Barajas and Harrell</td>\n",
       "      <td>Retail</td>\n",
       "      <td>Opportunity</td>\n",
       "      <td>90696</td>\n",
       "      <td>Lost</td>\n",
       "      <td>1/18/2024</td>\n",
       "      <td>o</td>\n",
       "      <td>X</td>\n",
       "      <td>Tokelau</td>\n",
       "      <td>9</td>\n",
       "      <td>7/15/2022</td>\n",
       "      <td>12/2/2023</td>\n",
       "      <td>88.0</td>\n",
       "    </tr>\n",
       "  </tbody>\n",
       "</table>\n",
       "</div>"
      ],
      "text/plain": [
       "   Unnamed: 0              User                 Profile Picture  \\\n",
       "0           0   Savannah Cortez  https://dummyimage.com/646x621   \n",
       "1           1  John Anderson MD   https://dummyimage.com/22x532   \n",
       "2           2      Amy Williams  https://dummyimage.com/619x819   \n",
       "\n",
       "             Email Address   Phone Number  \\\n",
       "0   jennifer06@example.net  (958)861-5017   \n",
       "1   alexthomas@example.org  (981)737-7214   \n",
       "2  carlabrooks@example.org   976.520.3848   \n",
       "\n",
       "                               Communication History  \\\n",
       "0  As order general party. Past close against top...   \n",
       "1   Human must trial family. Break return bill line.   \n",
       "2  Seek such agreement head whatever effort hear....   \n",
       "\n",
       "                    Company Name    Industry   Deal Stage  Deal Value  \\\n",
       "0                     Turner PLC  Healthcare  Opportunity       50107   \n",
       "1   Anthony, Chen and Harrington      Retail  Opportunity       76552   \n",
       "2  Matthews, Barajas and Harrell      Retail  Opportunity       90696   \n",
       "\n",
       "  Win/Loss Status Upcoming Tasks Activity Status Lead Source Location  \\\n",
       "0            Lost     12/30/2023         Ongoing       Yahoo    Spain   \n",
       "1            Lost      1/23/2024       Completed       Other   Jordan   \n",
       "2            Lost      1/18/2024              o            X  Tokelau   \n",
       "\n",
       "   Custom Visuals Creation Date Last Updated  User Activity  \n",
       "0               6     2/15/2021   12/19/2023           24.0  \n",
       "1               3     8/26/2021   12/20/2023           41.0  \n",
       "2               9     7/15/2022    12/2/2023           88.0  "
      ]
     },
     "execution_count": 3,
     "metadata": {},
     "output_type": "execute_result"
    }
   ],
   "source": [
    "df.head(3)"
   ]
  },
  {
   "cell_type": "code",
   "execution_count": 4,
   "id": "98dcfca9",
   "metadata": {},
   "outputs": [
    {
     "data": {
      "text/plain": [
       "count      500.000000\n",
       "mean     52429.746000\n",
       "std      28858.476527\n",
       "min       1289.000000\n",
       "25%      26932.250000\n",
       "50%      53727.000000\n",
       "75%      78062.000000\n",
       "max      99417.000000\n",
       "Name: Deal Value, dtype: float64"
      ]
     },
     "execution_count": 4,
     "metadata": {},
     "output_type": "execute_result"
    }
   ],
   "source": [
    "df['Deal Value'].describe()"
   ]
  },
  {
   "cell_type": "code",
   "execution_count": 5,
   "id": "5b03741b",
   "metadata": {},
   "outputs": [
    {
     "name": "stdout",
     "output_type": "stream",
     "text": [
      "there are no outliers in data\n"
     ]
    }
   ],
   "source": [
    "def outliers():\n",
    "    q1=df['Deal Value'].quantile(0.25)\n",
    "    q3=df['Deal Value'].quantile(0.75)\n",
    "    iqr=q3-q1\n",
    "    lower_limit=q1-1.5*iqr\n",
    "    upper_limit=q3+1.5*iqr\n",
    "    (df['User Activity']<lower_limit) | (df['User Activity']>lower_limit)\n",
    "\n",
    "    outliers=df[(df['User Activity'] < lower_limit) | (df['User Activity'] > upper_limit)]\n",
    "    if len(outliers)==0:\n",
    "        print('there are no outliers in data')\n",
    "    else:\n",
    "        print(f'no of outliers are {len(outliers)}')\n",
    "outliers()"
   ]
  },
  {
   "cell_type": "code",
   "execution_count": 6,
   "id": "69c1d571",
   "metadata": {},
   "outputs": [
    {
     "data": {
      "text/plain": [
       "Unnamed: 0               0\n",
       "User                     0\n",
       "Profile Picture          0\n",
       "Email Address            0\n",
       "Phone Number             0\n",
       "Communication History    0\n",
       "Company Name             0\n",
       "Industry                 0\n",
       "Deal Stage               0\n",
       "Deal Value               0\n",
       "Win/Loss Status          0\n",
       "Upcoming Tasks           0\n",
       "Activity Status          0\n",
       "Lead Source              0\n",
       "Location                 0\n",
       "Custom Visuals           0\n",
       "Creation Date            0\n",
       "Last Updated             0\n",
       "User Activity            6\n",
       "dtype: int64"
      ]
     },
     "execution_count": 6,
     "metadata": {},
     "output_type": "execute_result"
    }
   ],
   "source": [
    "df.isnull().sum()"
   ]
  },
  {
   "cell_type": "code",
   "execution_count": null,
   "id": "9cf24d34",
   "metadata": {},
   "outputs": [],
   "source": []
  },
  {
   "cell_type": "code",
   "execution_count": null,
   "id": "57e11fbe",
   "metadata": {},
   "outputs": [],
   "source": []
  },
  {
   "cell_type": "code",
   "execution_count": null,
   "id": "d37f1d8f",
   "metadata": {},
   "outputs": [],
   "source": []
  }
 ],
 "metadata": {
  "kernelspec": {
   "display_name": "Python 3 (ipykernel)",
   "language": "python",
   "name": "python3"
  },
  "language_info": {
   "codemirror_mode": {
    "name": "ipython",
    "version": 3
   },
   "file_extension": ".py",
   "mimetype": "text/x-python",
   "name": "python",
   "nbconvert_exporter": "python",
   "pygments_lexer": "ipython3",
   "version": "3.9.12"
  }
 },
 "nbformat": 4,
 "nbformat_minor": 5
}
